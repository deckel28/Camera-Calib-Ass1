{
 "cells": [
  {
   "cell_type": "code",
   "execution_count": 1,
   "metadata": {},
   "outputs": [],
   "source": [
    "import numpy as np\n",
    "import math\n",
    "# import pandas"
   ]
  },
  {
   "cell_type": "code",
   "execution_count": 2,
   "metadata": {},
   "outputs": [
    {
     "output_type": "stream",
     "name": "stdout",
     "text": [
      "[[ 990.  333.]\n [1003.  595.]\n [ 909.  755.]\n [1542.  667.]\n [1764.  453.]\n [1654.  307.]]\n[[ 0.   9.2 14.6]\n [ 0.   9.2  9.2]\n [ 0.  11.9  6.5]\n [ 6.5  0.   6.5]\n [11.9  0.  11.9]\n [ 9.2  0.  14.6]]\n"
     ]
    }
   ],
   "source": [
    "# from numpy import genfromtxt\n",
    "coords = np.genfromtxt('data/coords.csv', delimiter=',',skip_header=1)\n",
    "data_2d = coords[:6,:2]\n",
    "data_3d = coords[6:,:]\n",
    "print(data_2d)\n",
    "print(data_3d)"
   ]
  },
  {
   "cell_type": "code",
   "execution_count": 3,
   "metadata": {},
   "outputs": [],
   "source": [
    "# #Create Dataset\n",
    "# data_2d = np.array([[990, 333],\n",
    "#                       [1003, 595],\n",
    "#                       [909, 755],\n",
    "#                       [1542, 667],\n",
    "#                       [1764, 453],\n",
    "#                       [1654, 307]])\n",
    "\n",
    "# data_3d = np.array([[0,9.2,14.6],\n",
    "#                       [0,9.2,9.2],\n",
    "#                       [0,11.9,6.5],\n",
    "#                       [6.5,0,6.5],\n",
    "#                       [11.9,0,11.9],\n",
    "#                       [9.2,0,14.6]])"
   ]
  },
  {
   "cell_type": "code",
   "execution_count": 4,
   "metadata": {},
   "outputs": [],
   "source": [
    "def get_avg_dist(points):\n",
    "    d_avg = 0\n",
    "    centroid = points.mean(0)\n",
    "    for p in points:\n",
    "        d_avg += np.linalg.norm(p - centroid)\n",
    "    d_avg /= points.shape[0]\n",
    "    return d_avg\n",
    "\n",
    "def normalize_2d(points_2d):\n",
    "    d_avg_2d = get_avg_dist(points_2d)\n",
    "    centroid_2d = points_2d.mean(0)\n",
    "    \n",
    "    # Compute T matrix for normalizing 2D points\n",
    "    T = np.array([[1,0,(-1)*centroid_2d[0]], [0,1,(-1)*centroid_2d[1]], [0,0,1]])\n",
    "    T *= math.sqrt(2)/d_avg_2d\n",
    "    T[2,2] = 1    \n",
    "    print(\"T matrix for 2D normalization:\\n\" + str(T))\n",
    "    \n",
    "    # Find normalized 2D coordinates\n",
    "    x = np.append(points_2d.T, np.array([[1,1,1,1,1,1]]), axis=0)\n",
    "    x_norm = np.dot(T, x)\n",
    "    points_2d_norm = x_norm[0:2].T\n",
    "    print(\"Normalized 2D coordinates:\\n\" + str(points_2d_norm))\n",
    "    return points_2d_norm, T\n",
    "\n",
    "def normalize_3d(points_3d):\n",
    "    d_avg_3d = get_avg_dist(points_3d)\n",
    "    centroid_3d = points_3d.mean(0)\n",
    "    \n",
    "    # Compute U matrix for normalizing 3D points\n",
    "    U = np.array([[1,0,0,(-1)*centroid_3d[0]], [0,1,0,(-1)*centroid_3d[1]], [0,0,1,(-1)*centroid_3d[2]], [0,0,0,1]])\n",
    "    U *= math.sqrt(3)/d_avg_3d\n",
    "    U[3,3] = 1  \n",
    "    print(\"U matrix for 3D normalization:\\n\" + str(U))\n",
    "    \n",
    "    # Find normalized 3D coordinates\n",
    "    X = np.append(points_3d.T, np.array([[1,1,1,1,1,1]]), axis=0)\n",
    "    X_norm = np.dot(U, X)\n",
    "    points_3d_norm = X_norm[0:3].T\n",
    "    print(\"Normalized 3D coordinates:\\n\" + str(points_3d_norm))\n",
    "    return points_3d_norm, U\n",
    "\n",
    "def compute_P(points_3d, points_2d):\n",
    "    # Form the P matrix\n",
    "    points_3d_hom = np.append(points_3d, np.ones((6,1)), axis=1)\n",
    "    P=np.empty((0,12))\n",
    "\n",
    "    for i in range(points_3d.shape[0]):\n",
    "        first = np.append(points_3d_hom[i], np.zeros(4))\n",
    "        first = np.append(first, (-1)*points_2d[i][0]*points_3d_hom[i]) \n",
    "        first = first.reshape((1,12))\n",
    "        P = np.append(P, first, axis=0)\n",
    "        second = np.append(np.zeros(4), points_3d_hom[i])\n",
    "        second = np.append(second, (-1)*points_2d[i][1]*points_3d_hom[i]) \n",
    "        second = second.reshape((1,12))\n",
    "        P = np.append(P, second, axis=0)\n",
    "\n",
    "    print(\"P matrix:\\n\" + str(P))  \n",
    "    return P\n",
    "\n",
    "def compute_m(P, T, U):\n",
    "    # Find solution to Pm = 0 \n",
    "    w, v = np.linalg.eig(np.dot(P.T,P))\n",
    "    m = v[:,np.argmin(w)]\n",
    "    M = m.real.reshape((3,4))    \n",
    "    \n",
    "    # Denormalize Projection Matrix m\n",
    "    M = np.dot(M, U)\n",
    "    M = np.dot(np.linalg.inv(T), M)\n",
    "    print(\"Denormalized projection matrix m:\\n\" + str(M)) \n",
    "    return M\n",
    "\n",
    "def recover_2d_points(points_2d,points_3d, M):\n",
    "    # Recover 2D points using projection matrix found above\n",
    "    points_3d_test = np.append(points_3d, np.ones((6,1)), axis=1)\n",
    "    points_3d_test = points_3d_test.T\n",
    "    points_2d_test = np.empty((0,2))\n",
    "\n",
    "    for i in range(points_2d.shape[0]):\n",
    "        x_i = np.dot(M[0], points_3d_test[:,i])/np.dot(M[2], points_3d_test[:,i])\n",
    "        y_i = np.dot(M[1], points_3d_test[:,i])/np.dot(M[2], points_3d_test[:,i])\n",
    "        points_2d_test = np.append(points_2d_test, np.array([[x_i,y_i]]), axis=0)\n",
    "\n",
    "    print(\"Recovered 2D points:\\n\" + str(points_2d_test))\n",
    "    return points_2d_test\n",
    "\n",
    "def get_rmse(points_2d_test, points_2d):\n",
    "    # Compute RMSE\n",
    "    rmse = (points_2d_test - points_2d)**2\n",
    "    rmse = rmse.mean(0)\n",
    "    rmse = math.sqrt((rmse[0]+rmse[1])/2)\n",
    "    print(\"Root mean squared Error: \", rmse)  \n",
    "    return rmse\n",
    "\n",
    "def get_intrinsic_parameters(M):\n",
    "    # Compute Intrinsic Parameters\n",
    "    A = M[:,0:3]\n",
    "    b = M[:,3:4]\n",
    "    epsilon = 1\n",
    "    rho = epsilon/np.linalg.norm(A[2])\n",
    "    x0 = rho*rho*np.dot(A[0],A[2])\n",
    "    y0 = rho*rho*np.dot(A[1],A[2])\n",
    "    print(\"Scaling Factor (rho): \", rho)\n",
    "    print(\"x0: \", x0)\n",
    "    print(\"y0: \", y0)\n",
    "\n",
    "    a1_a3 = np.cross(A[0],A[2])\n",
    "    a2_a3 = np.cross(A[1],A[2])\n",
    "    cos_theta = (-1)*np.dot(a1_a3, a2_a3)/(np.linalg.norm(a1_a3)*np.linalg.norm(a2_a3))\n",
    "    theta = math.acos(cos_theta)*180/math.pi\n",
    "    sin_theta = math.sin(theta*math.pi/180)\n",
    "    print(\"Theta: \", theta)\n",
    "    print(\"Cos(theta): \", cos_theta)\n",
    "\n",
    "    alpha = rho*rho*np.linalg.norm(a1_a3)*sin_theta\n",
    "    beta = rho*rho*np.linalg.norm(a2_a3)*sin_theta\n",
    "    print(\"Alpha: \", alpha)\n",
    "    print(\"Beta: \", beta)\n",
    "\n",
    "    K = np.array([[alpha, (-1)*alpha*cos_theta/sin_theta, x0], [0, beta/sin_theta, y0], [0, 0, 1]])\n",
    "    print(\"K matrix:\\n\" + str(K))    \n",
    "    return alpha, beta, x0, y0, theta, K\n",
    "\n",
    "def get_extrinsic_parameters(M, K):\n",
    "    # Compute Extrinsic parameters\n",
    "    A = M[:,0:3]\n",
    "    b = M[:,3:4]\n",
    "    epsilon = 1\n",
    "    rho = epsilon/np.linalg.norm(A[2])  \n",
    "    a1_a3 = np.cross(A[0],A[2])\n",
    "    a2_a3 = np.cross(A[1],A[2])    \n",
    "    \n",
    "    r3 = rho*A[2]\n",
    "    r1 = a2_a3/np.linalg.norm(a2_a3)\n",
    "    r2 = np.cross(r3, r1)\n",
    "    R = np.empty((0,3))\n",
    "    R = np.append(R, r1.reshape((1,3)), axis=0)\n",
    "    R = np.append(R, r2.reshape((1,3)), axis=0)\n",
    "    R = np.append(R, r3.reshape((1,3)), axis=0)\n",
    "    print(\"R matrix:\\n\" + str(R))\n",
    "\n",
    "    t = rho*np.dot(np.linalg.inv(K), b)\n",
    "    print(\"t matrix:\\n\" + str(t))    \n",
    "    \n",
    "    return R, t"
   ]
  },
  {
   "cell_type": "code",
   "execution_count": 5,
   "metadata": {},
   "outputs": [
    {
     "output_type": "stream",
     "name": "stdout",
     "text": [
      "T matrix for 2D normalization:\n[[ 3.70566783e-03  0.00000000e+00 -4.85566008e+00]\n [ 0.00000000e+00  3.70566783e-03 -1.92077116e+00]\n [ 0.00000000e+00  0.00000000e+00  1.00000000e+00]]\nNormalized 2D coordinates:\n[[-1.18704893 -0.68678377]\n [-1.13887525  0.2841012 ]\n [-1.48720802  0.87700805]\n [ 0.85847971  0.55090928]\n [ 1.68113797 -0.24210363]\n [ 1.27351451 -0.78313113]]\nU matrix for 3D normalization:\n[[ 0.22300884  0.          0.         -1.02584067]\n [ 0.          0.22300884  0.         -1.12619465]\n [ 0.          0.          0.22300884 -2.35274328]\n [ 0.          0.          0.          1.        ]]\nNormalized 3D coordinates:\n[[-1.02584067  0.92548669  0.90318581]\n [-1.02584067  0.92548669 -0.30106194]\n [-1.02584067  1.52761057 -0.90318581]\n [ 0.4237168  -1.12619465 -0.90318581]\n [ 1.62796455 -1.12619465  0.30106194]\n [ 1.02584067 -1.12619465  0.90318581]]\n"
     ]
    }
   ],
   "source": [
    "points_2d_norm, T = normalize_2d(data_2d)\n",
    "points_3d_norm, U = normalize_3d(data_3d)"
   ]
  },
  {
   "cell_type": "code",
   "execution_count": 6,
   "metadata": {},
   "outputs": [
    {
     "output_type": "stream",
     "name": "stdout",
     "text": [
      "P matrix:\n[[-1.02584067  0.92548669  0.90318581  1.          0.          0.\n   0.          0.         -1.21772307  1.09859799  1.07212575  1.18704893]\n [ 0.          0.          0.          0.         -1.02584067  0.92548669\n   0.90318581  1.         -0.70453073  0.63560924  0.62029336  0.68678377]\n [-1.02584067  0.92548669 -0.30106194  1.          0.          0.\n   0.          0.         -1.16830455  1.05401389 -0.34287199  1.13887525]\n [ 0.          0.          0.          0.         -1.02584067  0.92548669\n  -0.30106194  1.          0.29144257 -0.26293188  0.08553206 -0.2841012 ]\n [-1.02584067  1.52761057 -0.90318581  1.          0.          0.\n   0.          0.         -1.52563848  2.27187469 -1.34322518  1.48720802]\n [ 0.          0.          0.          0.         -1.02584067  1.52761057\n  -0.90318581  1.          0.89967053 -1.33972677  0.79210123 -0.87700805]\n [ 0.4237168  -1.12619465 -0.90318581  1.          0.          0.\n   0.          0.         -0.36375228  0.96681526  0.77536669 -0.85847971]\n [ 0.          0.          0.          0.          0.4237168  -1.12619465\n  -0.90318581  1.         -0.23342952  0.62043109  0.49757345 -0.55090928]\n [ 1.62796455 -1.12619465  0.30106194  1.          0.          0.\n   0.          0.         -2.73683301  1.89328859 -0.50612665 -1.68113797]\n [ 0.          0.          0.          0.          1.62796455 -1.12619465\n   0.30106194  1.          0.39413613 -0.27265581  0.07288819  0.24210363]\n [ 1.02584067 -1.12619465  0.90318581  1.          0.          0.\n   0.          0.         -1.30642298  1.43422523 -1.15022023 -1.27351451]\n [ 0.          0.          0.          0.          1.02584067 -1.12619465\n   0.90318581  1.          0.80336777 -0.88195809  0.70731293  0.78313113]]\n"
     ]
    }
   ],
   "source": [
    "P = compute_P(points_3d_norm, points_2d_norm)"
   ]
  },
  {
   "cell_type": "code",
   "execution_count": 7,
   "metadata": {},
   "outputs": [
    {
     "output_type": "stream",
     "name": "stdout",
     "text": [
      "Denormalized projection matrix m:\n[[-1.71827428e+01  3.12075749e+01  4.75921141e+00 -9.81900974e+02]\n [-1.25426669e+00 -2.51010383e+00  3.26293545e+01 -6.63527845e+02]\n [ 5.77660173e-03  7.48176032e-03  3.24309813e-03 -7.47753556e-01]]\n"
     ]
    }
   ],
   "source": [
    "M = compute_m(P, T, U)"
   ]
  },
  {
   "cell_type": "code",
   "execution_count": 8,
   "metadata": {},
   "outputs": [
    {
     "output_type": "stream",
     "name": "stdout",
     "text": [
      "Recovered 2D points:\n[[ 990.07978675  332.87128297]\n [1002.96060133  595.34702437]\n [ 908.96984317  754.82548362]\n [1542.03249886  666.91737521]\n [1764.06504406  453.08499945]\n [1653.89241247  306.95338747]]\nRoot mean squared Error:  0.13208710504878887\n"
     ]
    }
   ],
   "source": [
    "points_2d_test = recover_2d_points(data_2d,data_3d, M)\n",
    "rmse = get_rmse(points_2d_test, data_2d)"
   ]
  },
  {
   "cell_type": "code",
   "execution_count": 9,
   "metadata": {},
   "outputs": [],
   "source": [
    "np.savetxt(\"data/recovered_coords.csv\", points_2d_test, delimiter=\",\", fmt='%i')"
   ]
  },
  {
   "cell_type": "code",
   "execution_count": 10,
   "metadata": {},
   "outputs": [
    {
     "output_type": "stream",
     "name": "stdout",
     "text": [
      "Scaling Factor (rho):  100.06829463594272\nx0:  1498.6881904672402\ny0:  799.0383270464773\nTheta:  88.8360402737667\nCos(theta):  0.020313532295953694\nAlpha:  3268.8328518846265\nBeta:  3177.6579553882384\nK matrix:\n[[ 3.26883285e+03 -6.64152459e+01  1.49868819e+03]\n [ 0.00000000e+00  3.17831377e+03  7.99038327e+02]\n [ 0.00000000e+00  0.00000000e+00  1.00000000e+00]]\n"
     ]
    }
   ],
   "source": [
    "alpha, beta, x0, y0, theta, K = get_intrinsic_parameters(M)"
   ]
  },
  {
   "cell_type": "code",
   "execution_count": 11,
   "metadata": {},
   "outputs": [
    {
     "output_type": "stream",
     "name": "stdout",
     "text": [
      "R matrix:\n[[-0.79479317  0.60666633  0.01611778]\n [-0.18481504 -0.26725222  0.94573762]\n [ 0.57805468  0.748687    0.3245313 ]]\nt matrix:\n[[  4.20523744]\n [ -2.07937932]\n [-74.82642318]]\n"
     ]
    }
   ],
   "source": [
    "R, t = get_extrinsic_parameters(M, K)"
   ]
  }
 ],
 "metadata": {
  "kernelspec": {
   "display_name": "Python 3",
   "language": "python",
   "name": "python3"
  },
  "language_info": {
   "codemirror_mode": {
    "name": "ipython",
    "version": 3
   },
   "file_extension": ".py",
   "mimetype": "text/x-python",
   "name": "python",
   "nbconvert_exporter": "python",
   "pygments_lexer": "ipython3",
   "version": "3.8.5-final"
  }
 },
 "nbformat": 4,
 "nbformat_minor": 4
}